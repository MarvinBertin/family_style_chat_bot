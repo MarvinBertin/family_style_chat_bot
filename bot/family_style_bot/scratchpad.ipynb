{
 "cells": [
  {
   "cell_type": "code",
   "execution_count": 11,
   "metadata": {
    "collapsed": true
   },
   "outputs": [],
   "source": [
    "reset -fs"
   ]
  },
  {
   "cell_type": "code",
   "execution_count": 12,
   "metadata": {
    "collapsed": false
   },
   "outputs": [],
   "source": [
    "from credentials import credentials"
   ]
  },
  {
   "cell_type": "code",
   "execution_count": 13,
   "metadata": {
    "collapsed": false
   },
   "outputs": [],
   "source": [
    "slack_bot_token, bot_id = credentials.require(['slack_bot_token', 'bot_id'])"
   ]
  },
  {
   "cell_type": "code",
   "execution_count": 14,
   "metadata": {
    "collapsed": true
   },
   "outputs": [],
   "source": [
    "from slacker import Slacker"
   ]
  },
  {
   "cell_type": "code",
   "execution_count": 15,
   "metadata": {
    "collapsed": true
   },
   "outputs": [],
   "source": [
    "slack = Slacker(slack_bot_token)"
   ]
  },
  {
   "cell_type": "code",
   "execution_count": 19,
   "metadata": {
    "collapsed": false
   },
   "outputs": [],
   "source": [
    "response = slack.users.list()\n",
    "users = response.body['members']"
   ]
  },
  {
   "cell_type": "code",
   "execution_count": 20,
   "metadata": {
    "collapsed": false
   },
   "outputs": [
    {
     "data": {
      "text/plain": [
       "[{u'color': u'9f69e7',\n",
       "  u'deleted': False,\n",
       "  u'id': u'U1Q9U9EEN',\n",
       "  u'is_admin': True,\n",
       "  u'is_bot': False,\n",
       "  u'is_owner': True,\n",
       "  u'is_primary_owner': True,\n",
       "  u'is_restricted': False,\n",
       "  u'is_ultra_restricted': False,\n",
       "  u'name': u'brian_spiering',\n",
       "  u'profile': {u'avatar_hash': u'g42b16c89577',\n",
       "   u'email': u'bspiering@gmail.com',\n",
       "   u'first_name': u'brian',\n",
       "   u'image_192': u'https://secure.gravatar.com/avatar/42b16c89577e1e770251c6282acd90ac.jpg?s=192&d=https%3A%2F%2Fa.slack-edge.com%2F7fa9%2Fimg%2Favatars%2Fava_0008-192.png',\n",
       "   u'image_24': u'https://secure.gravatar.com/avatar/42b16c89577e1e770251c6282acd90ac.jpg?s=24&d=https%3A%2F%2Fa.slack-edge.com%2F66f9%2Fimg%2Favatars%2Fava_0008-24.png',\n",
       "   u'image_32': u'https://secure.gravatar.com/avatar/42b16c89577e1e770251c6282acd90ac.jpg?s=32&d=https%3A%2F%2Fa.slack-edge.com%2F66f9%2Fimg%2Favatars%2Fava_0008-32.png',\n",
       "   u'image_48': u'https://secure.gravatar.com/avatar/42b16c89577e1e770251c6282acd90ac.jpg?s=48&d=https%3A%2F%2Fa.slack-edge.com%2F66f9%2Fimg%2Favatars%2Fava_0008-48.png',\n",
       "   u'image_512': u'https://secure.gravatar.com/avatar/42b16c89577e1e770251c6282acd90ac.jpg?s=512&d=https%3A%2F%2Fa.slack-edge.com%2F7fa9%2Fimg%2Favatars%2Fava_0008-512.png',\n",
       "   u'image_72': u'https://secure.gravatar.com/avatar/42b16c89577e1e770251c6282acd90ac.jpg?s=72&d=https%3A%2F%2Fa.slack-edge.com%2F66f9%2Fimg%2Favatars%2Fava_0008-72.png',\n",
       "   u'last_name': u'spiering',\n",
       "   u'real_name': u'brian spiering',\n",
       "   u'real_name_normalized': u'brian spiering'},\n",
       "  u'real_name': u'brian spiering',\n",
       "  u'status': None,\n",
       "  u'team_id': u'T1Q9CFC9E',\n",
       "  u'tz': u'America/Los_Angeles',\n",
       "  u'tz_label': u'Pacific Daylight Time',\n",
       "  u'tz_offset': -25200},\n",
       " {u'color': u'3c989f',\n",
       "  u'deleted': False,\n",
       "  u'id': u'U1Q9DGTUG',\n",
       "  u'is_admin': False,\n",
       "  u'is_bot': False,\n",
       "  u'is_owner': False,\n",
       "  u'is_primary_owner': False,\n",
       "  u'is_restricted': False,\n",
       "  u'is_ultra_restricted': False,\n",
       "  u'name': u'eugene',\n",
       "  u'profile': {u'avatar_hash': u'ge3706600c03',\n",
       "   u'email': u'eugene.huang@galvanize.com',\n",
       "   u'first_name': u'Eugene',\n",
       "   u'image_192': u'https://secure.gravatar.com/avatar/e3706600c03cca80ffeadb20fe28f58a.jpg?s=192&d=https%3A%2F%2Fa.slack-edge.com%2F7fa9%2Fimg%2Favatars%2Fava_0000-192.png',\n",
       "   u'image_24': u'https://secure.gravatar.com/avatar/e3706600c03cca80ffeadb20fe28f58a.jpg?s=24&d=https%3A%2F%2Fa.slack-edge.com%2F66f9%2Fimg%2Favatars%2Fava_0000-24.png',\n",
       "   u'image_32': u'https://secure.gravatar.com/avatar/e3706600c03cca80ffeadb20fe28f58a.jpg?s=32&d=https%3A%2F%2Fa.slack-edge.com%2F66f9%2Fimg%2Favatars%2Fava_0000-32.png',\n",
       "   u'image_48': u'https://secure.gravatar.com/avatar/e3706600c03cca80ffeadb20fe28f58a.jpg?s=48&d=https%3A%2F%2Fa.slack-edge.com%2F66f9%2Fimg%2Favatars%2Fava_0000-48.png',\n",
       "   u'image_512': u'https://secure.gravatar.com/avatar/e3706600c03cca80ffeadb20fe28f58a.jpg?s=512&d=https%3A%2F%2Fa.slack-edge.com%2F7fa9%2Fimg%2Favatars%2Fava_0000-512.png',\n",
       "   u'image_72': u'https://secure.gravatar.com/avatar/e3706600c03cca80ffeadb20fe28f58a.jpg?s=72&d=https%3A%2F%2Fa.slack-edge.com%2F66f9%2Fimg%2Favatars%2Fava_0000-72.png',\n",
       "   u'last_name': u'Huang',\n",
       "   u'real_name': u'Eugene Huang',\n",
       "   u'real_name_normalized': u'Eugene Huang'},\n",
       "  u'real_name': u'Eugene Huang',\n",
       "  u'status': None,\n",
       "  u'team_id': u'T1Q9CFC9E',\n",
       "  u'tz': u'America/Los_Angeles',\n",
       "  u'tz_label': u'Pacific Daylight Time',\n",
       "  u'tz_offset': -25200},\n",
       " {u'color': u'e96699',\n",
       "  u'deleted': False,\n",
       "  u'id': u'U1Q9US8UR',\n",
       "  u'is_admin': False,\n",
       "  u'is_bot': True,\n",
       "  u'is_owner': False,\n",
       "  u'is_primary_owner': False,\n",
       "  u'is_restricted': False,\n",
       "  u'is_ultra_restricted': False,\n",
       "  u'name': u'family_style',\n",
       "  u'profile': {u'api_app_id': u'',\n",
       "   u'avatar_hash': u'5328595fcba9',\n",
       "   u'bot_id': u'B1Q9ZF8QJ',\n",
       "   u'image_1024': u'https://avatars.slack-edge.com/2016-07-09/58328586981_5328595fcba9cb5e95cc_48.png',\n",
       "   u'image_192': u'https://avatars.slack-edge.com/2016-07-09/58328586981_5328595fcba9cb5e95cc_48.png',\n",
       "   u'image_24': u'https://avatars.slack-edge.com/2016-07-09/58328586981_5328595fcba9cb5e95cc_24.png',\n",
       "   u'image_32': u'https://avatars.slack-edge.com/2016-07-09/58328586981_5328595fcba9cb5e95cc_32.png',\n",
       "   u'image_48': u'https://avatars.slack-edge.com/2016-07-09/58328586981_5328595fcba9cb5e95cc_48.png',\n",
       "   u'image_512': u'https://avatars.slack-edge.com/2016-07-09/58328586981_5328595fcba9cb5e95cc_48.png',\n",
       "   u'image_72': u'https://avatars.slack-edge.com/2016-07-09/58328586981_5328595fcba9cb5e95cc_48.png',\n",
       "   u'image_original': u'https://avatars.slack-edge.com/2016-07-09/58328586981_5328595fcba9cb5e95cc_original.png',\n",
       "   u'real_name': u'',\n",
       "   u'real_name_normalized': u'',\n",
       "   u'title': u'Orders group lunch'},\n",
       "  u'real_name': u'',\n",
       "  u'status': None,\n",
       "  u'team_id': u'T1Q9CFC9E',\n",
       "  u'tz': None,\n",
       "  u'tz_label': u'Pacific Daylight Time',\n",
       "  u'tz_offset': -25200},\n",
       " {u'color': u'e7392d',\n",
       "  u'deleted': False,\n",
       "  u'id': u'U1Q9J0UA3',\n",
       "  u'is_admin': False,\n",
       "  u'is_bot': False,\n",
       "  u'is_owner': False,\n",
       "  u'is_primary_owner': False,\n",
       "  u'is_restricted': False,\n",
       "  u'is_ultra_restricted': False,\n",
       "  u'name': u'jonathanhourany',\n",
       "  u'profile': {u'avatar_hash': u'f9374a1e8061',\n",
       "   u'email': u'jon.hourany@gmail.com',\n",
       "   u'first_name': u'Jonathan',\n",
       "   u'image_1024': u'https://avatars.slack-edge.com/2016-07-09/58344553282_f9374a1e8061506e8ce1_192.jpg',\n",
       "   u'image_192': u'https://avatars.slack-edge.com/2016-07-09/58344553282_f9374a1e8061506e8ce1_192.jpg',\n",
       "   u'image_24': u'https://avatars.slack-edge.com/2016-07-09/58344553282_f9374a1e8061506e8ce1_24.jpg',\n",
       "   u'image_32': u'https://avatars.slack-edge.com/2016-07-09/58344553282_f9374a1e8061506e8ce1_32.jpg',\n",
       "   u'image_48': u'https://avatars.slack-edge.com/2016-07-09/58344553282_f9374a1e8061506e8ce1_48.jpg',\n",
       "   u'image_512': u'https://avatars.slack-edge.com/2016-07-09/58344553282_f9374a1e8061506e8ce1_192.jpg',\n",
       "   u'image_72': u'https://avatars.slack-edge.com/2016-07-09/58344553282_f9374a1e8061506e8ce1_72.jpg',\n",
       "   u'image_original': u'https://avatars.slack-edge.com/2016-07-09/58344553282_f9374a1e8061506e8ce1_original.jpg',\n",
       "   u'last_name': u'Hourany',\n",
       "   u'phone': u'',\n",
       "   u'real_name': u'Jonathan Hourany',\n",
       "   u'real_name_normalized': u'Jonathan Hourany',\n",
       "   u'skype': u'',\n",
       "   u'title': u''},\n",
       "  u'real_name': u'Jonathan Hourany',\n",
       "  u'status': None,\n",
       "  u'team_id': u'T1Q9CFC9E',\n",
       "  u'tz': u'America/Los_Angeles',\n",
       "  u'tz_label': u'Pacific Daylight Time',\n",
       "  u'tz_offset': -25200},\n",
       " {u'color': u'674b1b',\n",
       "  u'deleted': False,\n",
       "  u'id': u'U1Q9YJNAW',\n",
       "  u'is_admin': False,\n",
       "  u'is_bot': False,\n",
       "  u'is_owner': False,\n",
       "  u'is_primary_owner': False,\n",
       "  u'is_restricted': False,\n",
       "  u'is_ultra_restricted': False,\n",
       "  u'name': u'marvin',\n",
       "  u'profile': {u'avatar_hash': u'g553a7947047',\n",
       "   u'email': u'marvin.bertin@gmail.com',\n",
       "   u'first_name': u'Marvin',\n",
       "   u'image_192': u'https://secure.gravatar.com/avatar/553a7947047c62c912e374d11adaa3e4.jpg?s=192&d=https%3A%2F%2Fa.slack-edge.com%2F7fa9%2Fimg%2Favatars%2Fava_0005-192.png',\n",
       "   u'image_24': u'https://secure.gravatar.com/avatar/553a7947047c62c912e374d11adaa3e4.jpg?s=24&d=https%3A%2F%2Fa.slack-edge.com%2F66f9%2Fimg%2Favatars%2Fava_0005-24.png',\n",
       "   u'image_32': u'https://secure.gravatar.com/avatar/553a7947047c62c912e374d11adaa3e4.jpg?s=32&d=https%3A%2F%2Fa.slack-edge.com%2F66f9%2Fimg%2Favatars%2Fava_0005-32.png',\n",
       "   u'image_48': u'https://secure.gravatar.com/avatar/553a7947047c62c912e374d11adaa3e4.jpg?s=48&d=https%3A%2F%2Fa.slack-edge.com%2F66f9%2Fimg%2Favatars%2Fava_0005-48.png',\n",
       "   u'image_512': u'https://secure.gravatar.com/avatar/553a7947047c62c912e374d11adaa3e4.jpg?s=512&d=https%3A%2F%2Fa.slack-edge.com%2F7fa9%2Fimg%2Favatars%2Fava_0005-512.png',\n",
       "   u'image_72': u'https://secure.gravatar.com/avatar/553a7947047c62c912e374d11adaa3e4.jpg?s=72&d=https%3A%2F%2Fa.slack-edge.com%2F66f9%2Fimg%2Favatars%2Fava_0005-72.png',\n",
       "   u'last_name': u'Bertin',\n",
       "   u'real_name': u'Marvin Bertin',\n",
       "   u'real_name_normalized': u'Marvin Bertin'},\n",
       "  u'real_name': u'Marvin Bertin',\n",
       "  u'status': None,\n",
       "  u'team_id': u'T1Q9CFC9E',\n",
       "  u'tz': u'America/Los_Angeles',\n",
       "  u'tz_label': u'Pacific Daylight Time',\n",
       "  u'tz_offset': -25200},\n",
       " {u'color': u'4bbe2e',\n",
       "  u'deleted': False,\n",
       "  u'id': u'U1Q9D2SAU',\n",
       "  u'is_admin': False,\n",
       "  u'is_bot': True,\n",
       "  u'is_owner': False,\n",
       "  u'is_primary_owner': False,\n",
       "  u'is_restricted': False,\n",
       "  u'is_ultra_restricted': False,\n",
       "  u'name': u'starterbot',\n",
       "  u'profile': {u'api_app_id': u'',\n",
       "   u'avatar_hash': u'b6e475ac66e5',\n",
       "   u'bot_id': u'B1Q9Q7LDP',\n",
       "   u'image_1024': u'https://avatars.slack-edge.com/2016-07-09/58270144723_b6e475ac66e52727b7c7_48.png',\n",
       "   u'image_192': u'https://avatars.slack-edge.com/2016-07-09/58270144723_b6e475ac66e52727b7c7_48.png',\n",
       "   u'image_24': u'https://avatars.slack-edge.com/2016-07-09/58270144723_b6e475ac66e52727b7c7_24.png',\n",
       "   u'image_32': u'https://avatars.slack-edge.com/2016-07-09/58270144723_b6e475ac66e52727b7c7_32.png',\n",
       "   u'image_48': u'https://avatars.slack-edge.com/2016-07-09/58270144723_b6e475ac66e52727b7c7_48.png',\n",
       "   u'image_512': u'https://avatars.slack-edge.com/2016-07-09/58270144723_b6e475ac66e52727b7c7_48.png',\n",
       "   u'image_72': u'https://avatars.slack-edge.com/2016-07-09/58270144723_b6e475ac66e52727b7c7_48.png',\n",
       "   u'image_original': u'https://avatars.slack-edge.com/2016-07-09/58270144723_b6e475ac66e52727b7c7_original.png',\n",
       "   u'real_name': u'',\n",
       "   u'real_name_normalized': u''},\n",
       "  u'real_name': u'',\n",
       "  u'status': None,\n",
       "  u'team_id': u'T1Q9CFC9E',\n",
       "  u'tz': None,\n",
       "  u'tz_label': u'Pacific Daylight Time',\n",
       "  u'tz_offset': -25200},\n",
       " {u'color': u'757575',\n",
       "  u'deleted': False,\n",
       "  u'id': u'USLACKBOT',\n",
       "  u'is_admin': False,\n",
       "  u'is_bot': False,\n",
       "  u'is_owner': False,\n",
       "  u'is_primary_owner': False,\n",
       "  u'is_restricted': False,\n",
       "  u'is_ultra_restricted': False,\n",
       "  u'name': u'slackbot',\n",
       "  u'profile': {u'avatar_hash': u'sv1444671949',\n",
       "   u'email': None,\n",
       "   u'fields': None,\n",
       "   u'first_name': u'slackbot',\n",
       "   u'image_192': u'https://a.slack-edge.com/66f9/img/slackbot_192.png',\n",
       "   u'image_24': u'https://a.slack-edge.com/0180/img/slackbot_24.png',\n",
       "   u'image_32': u'https://a.slack-edge.com/2fac/plugins/slackbot/assets/service_32.png',\n",
       "   u'image_48': u'https://a.slack-edge.com/2fac/plugins/slackbot/assets/service_48.png',\n",
       "   u'image_512': u'https://a.slack-edge.com/1801/img/slackbot_512.png',\n",
       "   u'image_72': u'https://a.slack-edge.com/0180/img/slackbot_72.png',\n",
       "   u'last_name': u'',\n",
       "   u'real_name': u'slackbot',\n",
       "   u'real_name_normalized': u'slackbot'},\n",
       "  u'real_name': u'slackbot',\n",
       "  u'status': None,\n",
       "  u'team_id': u'T1Q9CFC9E',\n",
       "  u'tz': None,\n",
       "  u'tz_label': u'Pacific Daylight Time',\n",
       "  u'tz_offset': -25200}]"
      ]
     },
     "execution_count": 20,
     "metadata": {},
     "output_type": "execute_result"
    }
   ],
   "source": [
    "users"
   ]
  },
  {
   "cell_type": "code",
   "execution_count": 27,
   "metadata": {
    "collapsed": false
   },
   "outputs": [
    {
     "data": {
      "text/plain": [
       "u'brian spiering'"
      ]
     },
     "execution_count": 27,
     "metadata": {},
     "output_type": "execute_result"
    }
   ],
   "source": [
    "response = slack.users.info('U1Q9U9EEN')\n",
    "response.body['user']['real_name'].lower()"
   ]
  },
  {
   "cell_type": "code",
   "execution_count": 26,
   "metadata": {
    "collapsed": false
   },
   "outputs": [
    {
     "data": {
      "text/plain": [
       "[u'ok', u'user']"
      ]
     },
     "execution_count": 26,
     "metadata": {},
     "output_type": "execute_result"
    }
   ],
   "source": [
    "response.body.keys()"
   ]
  },
  {
   "cell_type": "code",
   "execution_count": null,
   "metadata": {
    "collapsed": true
   },
   "outputs": [],
   "source": []
  }
 ],
 "metadata": {
  "anaconda-cloud": {},
  "kernelspec": {
   "display_name": "Python [bot_env]",
   "language": "python",
   "name": "Python [bot_env]"
  },
  "language_info": {
   "codemirror_mode": {
    "name": "ipython",
    "version": 2
   },
   "file_extension": ".py",
   "mimetype": "text/x-python",
   "name": "python",
   "nbconvert_exporter": "python",
   "pygments_lexer": "ipython2",
   "version": "2.7.12"
  }
 },
 "nbformat": 4,
 "nbformat_minor": 0
}
